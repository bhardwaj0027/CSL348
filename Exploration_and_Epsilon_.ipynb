{
  "nbformat": 4,
  "nbformat_minor": 0,
  "metadata": {
    "colab": {
      "provenance": [],
      "authorship_tag": "ABX9TyMIAkYf7ZwKK8QDlM5UhGcm",
      "include_colab_link": true
    },
    "kernelspec": {
      "name": "python3",
      "display_name": "Python 3"
    },
    "language_info": {
      "name": "python"
    }
  },
  "cells": [
    {
      "cell_type": "markdown",
      "metadata": {
        "id": "view-in-github",
        "colab_type": "text"
      },
      "source": [
        "<a href=\"https://colab.research.google.com/github/bhardwaj0027/CSL348/blob/main/Exploration_and_Epsilon_.ipynb\" target=\"_parent\"><img src=\"https://colab.research.google.com/assets/colab-badge.svg\" alt=\"Open In Colab\"/></a>"
      ]
    },
    {
      "cell_type": "code",
      "execution_count": 57,
      "metadata": {
        "id": "WvvNP0RsUCzz"
      },
      "outputs": [],
      "source": [
        "import pandas as pd\n",
        "import numpy as np\n",
        "from sklearn.model_selection import train_test_split\n",
        "from sklearn.metrics import accuracy_score\n",
        "from sklearn.ensemble import RandomForestClassifier, GradientBoostingClassifier\n",
        "from sklearn.svm import SVC\n",
        "from sklearn.neighbors import KNeighborsClassifier\n",
        "from sklearn.linear_model import LogisticRegression"
      ]
    },
    {
      "cell_type": "code",
      "source": [
        "from google.colab import drive\n",
        "drive.mount"
      ],
      "metadata": {
        "colab": {
          "base_uri": "https://localhost:8080/"
        },
        "id": "VSqgaatsVg8d",
        "outputId": "6dca64e7-b87f-4c86-d83d-8bfd519af6b9"
      },
      "execution_count": 58,
      "outputs": [
        {
          "output_type": "execute_result",
          "data": {
            "text/plain": [
              "<function google.colab.drive.mount(mountpoint, force_remount=False, timeout_ms=120000, readonly=False)>"
            ]
          },
          "metadata": {},
          "execution_count": 58
        }
      ]
    },
    {
      "cell_type": "code",
      "source": [
        "\n",
        "import numpy as np\n",
        "num_arms = 5\n",
        "num_trials = 1000\n",
        "true_means = [4, 3, 5, 7, 2]\n",
        "estimates = np.ones(num_arms) * 10\n",
        "counts = np.zeros(num_arms)\n",
        "cumulative_reward = 0\n",
        "average_rewards = [0] * num_arms\n",
        "for t in range(1, num_trials + 1):\n",
        "    if t <= num_arms:\n",
        "        action = t - 1\n",
        "    else:\n",
        "        action = np.argmax(estimates)\n",
        "    reward = np.random.normal(true_means[action], 1)\n",
        "    counts[action] += 1\n",
        "    cumulative_reward += reward\n",
        "    estimates[action] += (reward - estimates[action]) / counts[action]\n",
        "    for arm in range(num_arms):\n",
        "        average_rewards[arm] += (reward - average_rewards[arm]) / t\n",
        "print(f\"Cumulative Reward: {cumulative_reward}\")\n",
        "print(f\"Average Reward: {average_rewards[i]:.2f}\")\n",
        "for i in range(num_arms):\n",
        "    print(f\"Machine {chr(97+i)} - True Mean: {true_means[i]}, Estimated Mean: {estimates[i]:.2f}, \"\n",
        "          f\"Number of Run : {int(counts[i])}\")"
      ],
      "metadata": {
        "colab": {
          "base_uri": "https://localhost:8080/"
        },
        "id": "epHuLTxUVsT2",
        "outputId": "d3ca36a6-da9c-46aa-c983-bf37bd92a467"
      },
      "execution_count": 59,
      "outputs": [
        {
          "output_type": "stream",
          "name": "stdout",
          "text": [
            "Cumulative Reward: 6961.610207787494\n",
            "Average Reward: 6.96\n",
            "Machine a - True Mean: 4, Estimated Mean: 4.67, Number of Run : 1\n",
            "Machine b - True Mean: 3, Estimated Mean: 3.84, Number of Run : 1\n",
            "Machine c - True Mean: 5, Estimated Mean: 4.49, Number of Run : 1\n",
            "Machine d - True Mean: 7, Estimated Mean: 6.97, Number of Run : 996\n",
            "Machine e - True Mean: 2, Estimated Mean: 1.57, Number of Run : 1\n"
          ]
        }
      ]
    },
    {
      "cell_type": "code",
      "source": [
        "import numpy as np\n",
        "num_arms = 5\n",
        "num_trials = 1000\n",
        "true_means = [4, 3, 5, 7, 2]\n",
        "estimates = np.zeros(num_arms)\n",
        "counts = np.zeros(num_arms)\n",
        "cumulative_reward = 0\n",
        "epsilon = 0.1\n",
        "for t in range(num_trials):\n",
        "    if np.random.random() < epsilon:\n",
        "        action = np.random.choice(num_arms)\n",
        "    else:\n",
        "        action = np.argmax(estimates)\n",
        "    reward = np.random.normal(true_means[action], 1)\n",
        "    counts[action] += 1\n",
        "    cumulative_reward += reward\n",
        "    estimates[action] += (reward - estimates[action]) / counts[action]\n",
        "print(f\"Cumulative Reward: {cumulative_reward}\")\n",
        "print(f\"Average Reward: {average_rewards[i]:.2f}\")\n",
        "for i in range(num_arms):\n",
        "    print(f\"Machine {chr(97 + i)} - True Mean: {true_means[i]}, Estimated Mean: {estimates[i]:.2f}, Number of Runs: {int(counts[i])}\")\n"
      ],
      "metadata": {
        "colab": {
          "base_uri": "https://localhost:8080/"
        },
        "id": "OM6cjkMDe5GQ",
        "outputId": "8f6bf436-34d0-423d-b025-3465735e5b4e"
      },
      "execution_count": 60,
      "outputs": [
        {
          "output_type": "stream",
          "name": "stdout",
          "text": [
            "Cumulative Reward: 6644.8957643759495\n",
            "Average Reward: 6.96\n",
            "Machine a - True Mean: 4, Estimated Mean: 4.08, Number of Runs: 48\n",
            "Machine b - True Mean: 3, Estimated Mean: 3.02, Number of Runs: 17\n",
            "Machine c - True Mean: 5, Estimated Mean: 4.95, Number of Runs: 38\n",
            "Machine d - True Mean: 7, Estimated Mean: 7.02, Number of Runs: 878\n",
            "Machine e - True Mean: 2, Estimated Mean: 2.29, Number of Runs: 19\n"
          ]
        }
      ]
    }
  ]
}